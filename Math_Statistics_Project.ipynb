{
  "nbformat": 4,
  "nbformat_minor": 0,
  "metadata": {
    "colab": {
      "provenance": []
    },
    "kernelspec": {
      "name": "python3",
      "display_name": "Python 3"
    },
    "language_info": {
      "name": "python"
    }
  },
  "cells": [
    {
      "cell_type": "markdown",
      "source": [
        "##**Intro**\n"
      ],
      "metadata": {
        "id": "4nzi1sNg1yDC"
      }
    },
    {
      "cell_type": "markdown",
      "source": [
        "Состав команды:\n",
        "\n",
        "*   Polina Basko\n",
        "*   Gulnaz Nursultanova\n",
        "*   Olga Pavlyuck\n",
        "*   Igor Ageev\n",
        "\n",
        "\n",
        "\n"
      ],
      "metadata": {
        "id": "SlhwuNYv18NB"
      }
    },
    {
      "cell_type": "code",
      "source": [
        "# подключаем необходимые библиотеки\n",
        "from google.colab import drive\n",
        "import pandas as pd\n",
        "import numpy as np\n",
        "import scipy.stats as st\n",
        "import matplotlib.pyplot as plt"
      ],
      "metadata": {
        "id": "EQZHHFbR2-Hm"
      },
      "execution_count": null,
      "outputs": []
    },
    {
      "cell_type": "code",
      "source": [
        "# монтируем папку данных с гуглдиска\n",
        "drive.mount('/content/drive')"
      ],
      "metadata": {
        "colab": {
          "base_uri": "https://localhost:8080/"
        },
        "id": "SAP_jEir3ZBP",
        "outputId": "01fb0fdc-835b-4a05-ddc0-55c8d2b12455"
      },
      "execution_count": null,
      "outputs": [
        {
          "output_type": "stream",
          "name": "stdout",
          "text": [
            "Mounted at /content/drive\n"
          ]
        }
      ]
    },
    {
      "cell_type": "code",
      "source": [
        "# Подгружаем 4 датасета\n",
        "orders = pd.read_csv('/content/drive/MyDrive/MatStat/clients_orders.csv')\n",
        "control = pd.read_csv('/content/drive/MyDrive/MatStat/time_order_processing_control.csv')\n",
        "test = pd.read_csv('/content/drive/MyDrive/MatStat/time_order_processing_test.csv')\n",
        "vendors = pd.read_csv('/content/drive/MyDrive/MatStat/vendors.csv')"
      ],
      "metadata": {
        "id": "iuTEI9efm9Pv"
      },
      "execution_count": null,
      "outputs": []
    },
    {
      "cell_type": "markdown",
      "source": [
        "##**Задание 1**\n",
        "\n",
        "Менеджер сайта, предоставляющего независимым продавцам площадку для\n",
        "продаж, решил провести АБ-тест, выбрав в качестве метрики время обработки\n",
        "заказов продавцами. Для контрольной группы продавцов оставили предыдущий\n",
        "интерфейс работы с заказами, а для тестовой группы внедрили интерактивный\n",
        "дэшборд заказов.\n",
        "\n",
        "Полученные результаты времени обработки заказов в часах для тестовой и\n",
        "контрольной групп представлены в csv-файлах time_order_processing_test.csv и\n",
        "time_order_processing_control.csv.\n",
        "\n",
        "Проверьте гипотезу менеджера о том, что использование интерактивного\n",
        "дэшборда уменьшило время обработки заказов.\n",
        "Подсказка: это независимые выборки."
      ],
      "metadata": {
        "id": "lAaORzUb1NB9"
      }
    },
    {
      "cell_type": "code",
      "source": [
        "test.describe()"
      ],
      "metadata": {
        "id": "0bVHSgl3obZ0",
        "colab": {
          "base_uri": "https://localhost:8080/",
          "height": 300
        },
        "outputId": "11b7addb-dfb6-4601-e031-e4dcc4569855"
      },
      "execution_count": null,
      "outputs": [
        {
          "output_type": "execute_result",
          "data": {
            "text/plain": [
              "        Unnamed: 0         time\n",
              "count  1393.000000  1393.000000\n",
              "mean    696.000000    18.009160\n",
              "std     402.268774     5.857845\n",
              "min       0.000000     8.000000\n",
              "25%     348.000000    13.840000\n",
              "50%     696.000000    17.480000\n",
              "75%    1044.000000    21.520000\n",
              "max    1392.000000    44.520000"
            ],
            "text/html": [
              "\n",
              "  <div id=\"df-f9eecb9e-8472-49d2-9b1c-a85669cf8d70\" class=\"colab-df-container\">\n",
              "    <div>\n",
              "<style scoped>\n",
              "    .dataframe tbody tr th:only-of-type {\n",
              "        vertical-align: middle;\n",
              "    }\n",
              "\n",
              "    .dataframe tbody tr th {\n",
              "        vertical-align: top;\n",
              "    }\n",
              "\n",
              "    .dataframe thead th {\n",
              "        text-align: right;\n",
              "    }\n",
              "</style>\n",
              "<table border=\"1\" class=\"dataframe\">\n",
              "  <thead>\n",
              "    <tr style=\"text-align: right;\">\n",
              "      <th></th>\n",
              "      <th>Unnamed: 0</th>\n",
              "      <th>time</th>\n",
              "    </tr>\n",
              "  </thead>\n",
              "  <tbody>\n",
              "    <tr>\n",
              "      <th>count</th>\n",
              "      <td>1393.000000</td>\n",
              "      <td>1393.000000</td>\n",
              "    </tr>\n",
              "    <tr>\n",
              "      <th>mean</th>\n",
              "      <td>696.000000</td>\n",
              "      <td>18.009160</td>\n",
              "    </tr>\n",
              "    <tr>\n",
              "      <th>std</th>\n",
              "      <td>402.268774</td>\n",
              "      <td>5.857845</td>\n",
              "    </tr>\n",
              "    <tr>\n",
              "      <th>min</th>\n",
              "      <td>0.000000</td>\n",
              "      <td>8.000000</td>\n",
              "    </tr>\n",
              "    <tr>\n",
              "      <th>25%</th>\n",
              "      <td>348.000000</td>\n",
              "      <td>13.840000</td>\n",
              "    </tr>\n",
              "    <tr>\n",
              "      <th>50%</th>\n",
              "      <td>696.000000</td>\n",
              "      <td>17.480000</td>\n",
              "    </tr>\n",
              "    <tr>\n",
              "      <th>75%</th>\n",
              "      <td>1044.000000</td>\n",
              "      <td>21.520000</td>\n",
              "    </tr>\n",
              "    <tr>\n",
              "      <th>max</th>\n",
              "      <td>1392.000000</td>\n",
              "      <td>44.520000</td>\n",
              "    </tr>\n",
              "  </tbody>\n",
              "</table>\n",
              "</div>\n",
              "    <div class=\"colab-df-buttons\">\n",
              "\n",
              "  <div class=\"colab-df-container\">\n",
              "    <button class=\"colab-df-convert\" onclick=\"convertToInteractive('df-f9eecb9e-8472-49d2-9b1c-a85669cf8d70')\"\n",
              "            title=\"Convert this dataframe to an interactive table.\"\n",
              "            style=\"display:none;\">\n",
              "\n",
              "  <svg xmlns=\"http://www.w3.org/2000/svg\" height=\"24px\" viewBox=\"0 -960 960 960\">\n",
              "    <path d=\"M120-120v-720h720v720H120Zm60-500h600v-160H180v160Zm220 220h160v-160H400v160Zm0 220h160v-160H400v160ZM180-400h160v-160H180v160Zm440 0h160v-160H620v160ZM180-180h160v-160H180v160Zm440 0h160v-160H620v160Z\"/>\n",
              "  </svg>\n",
              "    </button>\n",
              "\n",
              "  <style>\n",
              "    .colab-df-container {\n",
              "      display:flex;\n",
              "      gap: 12px;\n",
              "    }\n",
              "\n",
              "    .colab-df-convert {\n",
              "      background-color: #E8F0FE;\n",
              "      border: none;\n",
              "      border-radius: 50%;\n",
              "      cursor: pointer;\n",
              "      display: none;\n",
              "      fill: #1967D2;\n",
              "      height: 32px;\n",
              "      padding: 0 0 0 0;\n",
              "      width: 32px;\n",
              "    }\n",
              "\n",
              "    .colab-df-convert:hover {\n",
              "      background-color: #E2EBFA;\n",
              "      box-shadow: 0px 1px 2px rgba(60, 64, 67, 0.3), 0px 1px 3px 1px rgba(60, 64, 67, 0.15);\n",
              "      fill: #174EA6;\n",
              "    }\n",
              "\n",
              "    .colab-df-buttons div {\n",
              "      margin-bottom: 4px;\n",
              "    }\n",
              "\n",
              "    [theme=dark] .colab-df-convert {\n",
              "      background-color: #3B4455;\n",
              "      fill: #D2E3FC;\n",
              "    }\n",
              "\n",
              "    [theme=dark] .colab-df-convert:hover {\n",
              "      background-color: #434B5C;\n",
              "      box-shadow: 0px 1px 3px 1px rgba(0, 0, 0, 0.15);\n",
              "      filter: drop-shadow(0px 1px 2px rgba(0, 0, 0, 0.3));\n",
              "      fill: #FFFFFF;\n",
              "    }\n",
              "  </style>\n",
              "\n",
              "    <script>\n",
              "      const buttonEl =\n",
              "        document.querySelector('#df-f9eecb9e-8472-49d2-9b1c-a85669cf8d70 button.colab-df-convert');\n",
              "      buttonEl.style.display =\n",
              "        google.colab.kernel.accessAllowed ? 'block' : 'none';\n",
              "\n",
              "      async function convertToInteractive(key) {\n",
              "        const element = document.querySelector('#df-f9eecb9e-8472-49d2-9b1c-a85669cf8d70');\n",
              "        const dataTable =\n",
              "          await google.colab.kernel.invokeFunction('convertToInteractive',\n",
              "                                                    [key], {});\n",
              "        if (!dataTable) return;\n",
              "\n",
              "        const docLinkHtml = 'Like what you see? Visit the ' +\n",
              "          '<a target=\"_blank\" href=https://colab.research.google.com/notebooks/data_table.ipynb>data table notebook</a>'\n",
              "          + ' to learn more about interactive tables.';\n",
              "        element.innerHTML = '';\n",
              "        dataTable['output_type'] = 'display_data';\n",
              "        await google.colab.output.renderOutput(dataTable, element);\n",
              "        const docLink = document.createElement('div');\n",
              "        docLink.innerHTML = docLinkHtml;\n",
              "        element.appendChild(docLink);\n",
              "      }\n",
              "    </script>\n",
              "  </div>\n",
              "\n",
              "\n",
              "<div id=\"df-9fbbf569-d0bc-4406-bd91-1ca992dead5e\">\n",
              "  <button class=\"colab-df-quickchart\" onclick=\"quickchart('df-9fbbf569-d0bc-4406-bd91-1ca992dead5e')\"\n",
              "            title=\"Suggest charts\"\n",
              "            style=\"display:none;\">\n",
              "\n",
              "<svg xmlns=\"http://www.w3.org/2000/svg\" height=\"24px\"viewBox=\"0 0 24 24\"\n",
              "     width=\"24px\">\n",
              "    <g>\n",
              "        <path d=\"M19 3H5c-1.1 0-2 .9-2 2v14c0 1.1.9 2 2 2h14c1.1 0 2-.9 2-2V5c0-1.1-.9-2-2-2zM9 17H7v-7h2v7zm4 0h-2V7h2v10zm4 0h-2v-4h2v4z\"/>\n",
              "    </g>\n",
              "</svg>\n",
              "  </button>\n",
              "\n",
              "<style>\n",
              "  .colab-df-quickchart {\n",
              "      --bg-color: #E8F0FE;\n",
              "      --fill-color: #1967D2;\n",
              "      --hover-bg-color: #E2EBFA;\n",
              "      --hover-fill-color: #174EA6;\n",
              "      --disabled-fill-color: #AAA;\n",
              "      --disabled-bg-color: #DDD;\n",
              "  }\n",
              "\n",
              "  [theme=dark] .colab-df-quickchart {\n",
              "      --bg-color: #3B4455;\n",
              "      --fill-color: #D2E3FC;\n",
              "      --hover-bg-color: #434B5C;\n",
              "      --hover-fill-color: #FFFFFF;\n",
              "      --disabled-bg-color: #3B4455;\n",
              "      --disabled-fill-color: #666;\n",
              "  }\n",
              "\n",
              "  .colab-df-quickchart {\n",
              "    background-color: var(--bg-color);\n",
              "    border: none;\n",
              "    border-radius: 50%;\n",
              "    cursor: pointer;\n",
              "    display: none;\n",
              "    fill: var(--fill-color);\n",
              "    height: 32px;\n",
              "    padding: 0;\n",
              "    width: 32px;\n",
              "  }\n",
              "\n",
              "  .colab-df-quickchart:hover {\n",
              "    background-color: var(--hover-bg-color);\n",
              "    box-shadow: 0 1px 2px rgba(60, 64, 67, 0.3), 0 1px 3px 1px rgba(60, 64, 67, 0.15);\n",
              "    fill: var(--button-hover-fill-color);\n",
              "  }\n",
              "\n",
              "  .colab-df-quickchart-complete:disabled,\n",
              "  .colab-df-quickchart-complete:disabled:hover {\n",
              "    background-color: var(--disabled-bg-color);\n",
              "    fill: var(--disabled-fill-color);\n",
              "    box-shadow: none;\n",
              "  }\n",
              "\n",
              "  .colab-df-spinner {\n",
              "    border: 2px solid var(--fill-color);\n",
              "    border-color: transparent;\n",
              "    border-bottom-color: var(--fill-color);\n",
              "    animation:\n",
              "      spin 1s steps(1) infinite;\n",
              "  }\n",
              "\n",
              "  @keyframes spin {\n",
              "    0% {\n",
              "      border-color: transparent;\n",
              "      border-bottom-color: var(--fill-color);\n",
              "      border-left-color: var(--fill-color);\n",
              "    }\n",
              "    20% {\n",
              "      border-color: transparent;\n",
              "      border-left-color: var(--fill-color);\n",
              "      border-top-color: var(--fill-color);\n",
              "    }\n",
              "    30% {\n",
              "      border-color: transparent;\n",
              "      border-left-color: var(--fill-color);\n",
              "      border-top-color: var(--fill-color);\n",
              "      border-right-color: var(--fill-color);\n",
              "    }\n",
              "    40% {\n",
              "      border-color: transparent;\n",
              "      border-right-color: var(--fill-color);\n",
              "      border-top-color: var(--fill-color);\n",
              "    }\n",
              "    60% {\n",
              "      border-color: transparent;\n",
              "      border-right-color: var(--fill-color);\n",
              "    }\n",
              "    80% {\n",
              "      border-color: transparent;\n",
              "      border-right-color: var(--fill-color);\n",
              "      border-bottom-color: var(--fill-color);\n",
              "    }\n",
              "    90% {\n",
              "      border-color: transparent;\n",
              "      border-bottom-color: var(--fill-color);\n",
              "    }\n",
              "  }\n",
              "</style>\n",
              "\n",
              "  <script>\n",
              "    async function quickchart(key) {\n",
              "      const quickchartButtonEl =\n",
              "        document.querySelector('#' + key + ' button');\n",
              "      quickchartButtonEl.disabled = true;  // To prevent multiple clicks.\n",
              "      quickchartButtonEl.classList.add('colab-df-spinner');\n",
              "      try {\n",
              "        const charts = await google.colab.kernel.invokeFunction(\n",
              "            'suggestCharts', [key], {});\n",
              "      } catch (error) {\n",
              "        console.error('Error during call to suggestCharts:', error);\n",
              "      }\n",
              "      quickchartButtonEl.classList.remove('colab-df-spinner');\n",
              "      quickchartButtonEl.classList.add('colab-df-quickchart-complete');\n",
              "    }\n",
              "    (() => {\n",
              "      let quickchartButtonEl =\n",
              "        document.querySelector('#df-9fbbf569-d0bc-4406-bd91-1ca992dead5e button');\n",
              "      quickchartButtonEl.style.display =\n",
              "        google.colab.kernel.accessAllowed ? 'block' : 'none';\n",
              "    })();\n",
              "  </script>\n",
              "</div>\n",
              "    </div>\n",
              "  </div>\n"
            ],
            "application/vnd.google.colaboratory.intrinsic+json": {
              "type": "dataframe",
              "summary": "{\n  \"name\": \"test\",\n  \"rows\": 8,\n  \"fields\": [\n    {\n      \"column\": \"Unnamed: 0\",\n      \"properties\": {\n        \"dtype\": \"number\",\n        \"std\": 501.8250719701304,\n        \"min\": 0.0,\n        \"max\": 1393.0,\n        \"num_unique_values\": 7,\n        \"samples\": [\n          1393.0,\n          696.0,\n          1044.0\n        ],\n        \"semantic_type\": \"\",\n        \"description\": \"\"\n      }\n    },\n    {\n      \"column\": \"time\",\n      \"properties\": {\n        \"dtype\": \"number\",\n        \"std\": 486.11682887692353,\n        \"min\": 5.857844720387853,\n        \"max\": 1393.0,\n        \"num_unique_values\": 8,\n        \"samples\": [\n          18.009160086145013,\n          17.48,\n          1393.0\n        ],\n        \"semantic_type\": \"\",\n        \"description\": \"\"\n      }\n    }\n  ]\n}"
            }
          },
          "metadata": {},
          "execution_count": 4
        }
      ]
    },
    {
      "cell_type": "code",
      "source": [
        "control.describe()"
      ],
      "metadata": {
        "colab": {
          "base_uri": "https://localhost:8080/",
          "height": 300
        },
        "id": "ICe2W-kytwdt",
        "outputId": "f9b39cee-0a96-4c21-dc6e-ed6a93c5dede"
      },
      "execution_count": null,
      "outputs": [
        {
          "output_type": "execute_result",
          "data": {
            "text/plain": [
              "        Unnamed: 0         time\n",
              "count  1393.000000  1393.000000\n",
              "mean    696.000000    29.502828\n",
              "std     402.268774     8.979888\n",
              "min       0.000000     8.320000\n",
              "25%     348.000000    23.040000\n",
              "50%     696.000000    28.840000\n",
              "75%    1044.000000    35.200000\n",
              "max    1392.000000    67.160000"
            ],
            "text/html": [
              "\n",
              "  <div id=\"df-a21af96b-4771-4490-ac56-15bdfab14cf3\" class=\"colab-df-container\">\n",
              "    <div>\n",
              "<style scoped>\n",
              "    .dataframe tbody tr th:only-of-type {\n",
              "        vertical-align: middle;\n",
              "    }\n",
              "\n",
              "    .dataframe tbody tr th {\n",
              "        vertical-align: top;\n",
              "    }\n",
              "\n",
              "    .dataframe thead th {\n",
              "        text-align: right;\n",
              "    }\n",
              "</style>\n",
              "<table border=\"1\" class=\"dataframe\">\n",
              "  <thead>\n",
              "    <tr style=\"text-align: right;\">\n",
              "      <th></th>\n",
              "      <th>Unnamed: 0</th>\n",
              "      <th>time</th>\n",
              "    </tr>\n",
              "  </thead>\n",
              "  <tbody>\n",
              "    <tr>\n",
              "      <th>count</th>\n",
              "      <td>1393.000000</td>\n",
              "      <td>1393.000000</td>\n",
              "    </tr>\n",
              "    <tr>\n",
              "      <th>mean</th>\n",
              "      <td>696.000000</td>\n",
              "      <td>29.502828</td>\n",
              "    </tr>\n",
              "    <tr>\n",
              "      <th>std</th>\n",
              "      <td>402.268774</td>\n",
              "      <td>8.979888</td>\n",
              "    </tr>\n",
              "    <tr>\n",
              "      <th>min</th>\n",
              "      <td>0.000000</td>\n",
              "      <td>8.320000</td>\n",
              "    </tr>\n",
              "    <tr>\n",
              "      <th>25%</th>\n",
              "      <td>348.000000</td>\n",
              "      <td>23.040000</td>\n",
              "    </tr>\n",
              "    <tr>\n",
              "      <th>50%</th>\n",
              "      <td>696.000000</td>\n",
              "      <td>28.840000</td>\n",
              "    </tr>\n",
              "    <tr>\n",
              "      <th>75%</th>\n",
              "      <td>1044.000000</td>\n",
              "      <td>35.200000</td>\n",
              "    </tr>\n",
              "    <tr>\n",
              "      <th>max</th>\n",
              "      <td>1392.000000</td>\n",
              "      <td>67.160000</td>\n",
              "    </tr>\n",
              "  </tbody>\n",
              "</table>\n",
              "</div>\n",
              "    <div class=\"colab-df-buttons\">\n",
              "\n",
              "  <div class=\"colab-df-container\">\n",
              "    <button class=\"colab-df-convert\" onclick=\"convertToInteractive('df-a21af96b-4771-4490-ac56-15bdfab14cf3')\"\n",
              "            title=\"Convert this dataframe to an interactive table.\"\n",
              "            style=\"display:none;\">\n",
              "\n",
              "  <svg xmlns=\"http://www.w3.org/2000/svg\" height=\"24px\" viewBox=\"0 -960 960 960\">\n",
              "    <path d=\"M120-120v-720h720v720H120Zm60-500h600v-160H180v160Zm220 220h160v-160H400v160Zm0 220h160v-160H400v160ZM180-400h160v-160H180v160Zm440 0h160v-160H620v160ZM180-180h160v-160H180v160Zm440 0h160v-160H620v160Z\"/>\n",
              "  </svg>\n",
              "    </button>\n",
              "\n",
              "  <style>\n",
              "    .colab-df-container {\n",
              "      display:flex;\n",
              "      gap: 12px;\n",
              "    }\n",
              "\n",
              "    .colab-df-convert {\n",
              "      background-color: #E8F0FE;\n",
              "      border: none;\n",
              "      border-radius: 50%;\n",
              "      cursor: pointer;\n",
              "      display: none;\n",
              "      fill: #1967D2;\n",
              "      height: 32px;\n",
              "      padding: 0 0 0 0;\n",
              "      width: 32px;\n",
              "    }\n",
              "\n",
              "    .colab-df-convert:hover {\n",
              "      background-color: #E2EBFA;\n",
              "      box-shadow: 0px 1px 2px rgba(60, 64, 67, 0.3), 0px 1px 3px 1px rgba(60, 64, 67, 0.15);\n",
              "      fill: #174EA6;\n",
              "    }\n",
              "\n",
              "    .colab-df-buttons div {\n",
              "      margin-bottom: 4px;\n",
              "    }\n",
              "\n",
              "    [theme=dark] .colab-df-convert {\n",
              "      background-color: #3B4455;\n",
              "      fill: #D2E3FC;\n",
              "    }\n",
              "\n",
              "    [theme=dark] .colab-df-convert:hover {\n",
              "      background-color: #434B5C;\n",
              "      box-shadow: 0px 1px 3px 1px rgba(0, 0, 0, 0.15);\n",
              "      filter: drop-shadow(0px 1px 2px rgba(0, 0, 0, 0.3));\n",
              "      fill: #FFFFFF;\n",
              "    }\n",
              "  </style>\n",
              "\n",
              "    <script>\n",
              "      const buttonEl =\n",
              "        document.querySelector('#df-a21af96b-4771-4490-ac56-15bdfab14cf3 button.colab-df-convert');\n",
              "      buttonEl.style.display =\n",
              "        google.colab.kernel.accessAllowed ? 'block' : 'none';\n",
              "\n",
              "      async function convertToInteractive(key) {\n",
              "        const element = document.querySelector('#df-a21af96b-4771-4490-ac56-15bdfab14cf3');\n",
              "        const dataTable =\n",
              "          await google.colab.kernel.invokeFunction('convertToInteractive',\n",
              "                                                    [key], {});\n",
              "        if (!dataTable) return;\n",
              "\n",
              "        const docLinkHtml = 'Like what you see? Visit the ' +\n",
              "          '<a target=\"_blank\" href=https://colab.research.google.com/notebooks/data_table.ipynb>data table notebook</a>'\n",
              "          + ' to learn more about interactive tables.';\n",
              "        element.innerHTML = '';\n",
              "        dataTable['output_type'] = 'display_data';\n",
              "        await google.colab.output.renderOutput(dataTable, element);\n",
              "        const docLink = document.createElement('div');\n",
              "        docLink.innerHTML = docLinkHtml;\n",
              "        element.appendChild(docLink);\n",
              "      }\n",
              "    </script>\n",
              "  </div>\n",
              "\n",
              "\n",
              "<div id=\"df-9a0c6cdd-47d0-40c2-9980-d311ccdc2d21\">\n",
              "  <button class=\"colab-df-quickchart\" onclick=\"quickchart('df-9a0c6cdd-47d0-40c2-9980-d311ccdc2d21')\"\n",
              "            title=\"Suggest charts\"\n",
              "            style=\"display:none;\">\n",
              "\n",
              "<svg xmlns=\"http://www.w3.org/2000/svg\" height=\"24px\"viewBox=\"0 0 24 24\"\n",
              "     width=\"24px\">\n",
              "    <g>\n",
              "        <path d=\"M19 3H5c-1.1 0-2 .9-2 2v14c0 1.1.9 2 2 2h14c1.1 0 2-.9 2-2V5c0-1.1-.9-2-2-2zM9 17H7v-7h2v7zm4 0h-2V7h2v10zm4 0h-2v-4h2v4z\"/>\n",
              "    </g>\n",
              "</svg>\n",
              "  </button>\n",
              "\n",
              "<style>\n",
              "  .colab-df-quickchart {\n",
              "      --bg-color: #E8F0FE;\n",
              "      --fill-color: #1967D2;\n",
              "      --hover-bg-color: #E2EBFA;\n",
              "      --hover-fill-color: #174EA6;\n",
              "      --disabled-fill-color: #AAA;\n",
              "      --disabled-bg-color: #DDD;\n",
              "  }\n",
              "\n",
              "  [theme=dark] .colab-df-quickchart {\n",
              "      --bg-color: #3B4455;\n",
              "      --fill-color: #D2E3FC;\n",
              "      --hover-bg-color: #434B5C;\n",
              "      --hover-fill-color: #FFFFFF;\n",
              "      --disabled-bg-color: #3B4455;\n",
              "      --disabled-fill-color: #666;\n",
              "  }\n",
              "\n",
              "  .colab-df-quickchart {\n",
              "    background-color: var(--bg-color);\n",
              "    border: none;\n",
              "    border-radius: 50%;\n",
              "    cursor: pointer;\n",
              "    display: none;\n",
              "    fill: var(--fill-color);\n",
              "    height: 32px;\n",
              "    padding: 0;\n",
              "    width: 32px;\n",
              "  }\n",
              "\n",
              "  .colab-df-quickchart:hover {\n",
              "    background-color: var(--hover-bg-color);\n",
              "    box-shadow: 0 1px 2px rgba(60, 64, 67, 0.3), 0 1px 3px 1px rgba(60, 64, 67, 0.15);\n",
              "    fill: var(--button-hover-fill-color);\n",
              "  }\n",
              "\n",
              "  .colab-df-quickchart-complete:disabled,\n",
              "  .colab-df-quickchart-complete:disabled:hover {\n",
              "    background-color: var(--disabled-bg-color);\n",
              "    fill: var(--disabled-fill-color);\n",
              "    box-shadow: none;\n",
              "  }\n",
              "\n",
              "  .colab-df-spinner {\n",
              "    border: 2px solid var(--fill-color);\n",
              "    border-color: transparent;\n",
              "    border-bottom-color: var(--fill-color);\n",
              "    animation:\n",
              "      spin 1s steps(1) infinite;\n",
              "  }\n",
              "\n",
              "  @keyframes spin {\n",
              "    0% {\n",
              "      border-color: transparent;\n",
              "      border-bottom-color: var(--fill-color);\n",
              "      border-left-color: var(--fill-color);\n",
              "    }\n",
              "    20% {\n",
              "      border-color: transparent;\n",
              "      border-left-color: var(--fill-color);\n",
              "      border-top-color: var(--fill-color);\n",
              "    }\n",
              "    30% {\n",
              "      border-color: transparent;\n",
              "      border-left-color: var(--fill-color);\n",
              "      border-top-color: var(--fill-color);\n",
              "      border-right-color: var(--fill-color);\n",
              "    }\n",
              "    40% {\n",
              "      border-color: transparent;\n",
              "      border-right-color: var(--fill-color);\n",
              "      border-top-color: var(--fill-color);\n",
              "    }\n",
              "    60% {\n",
              "      border-color: transparent;\n",
              "      border-right-color: var(--fill-color);\n",
              "    }\n",
              "    80% {\n",
              "      border-color: transparent;\n",
              "      border-right-color: var(--fill-color);\n",
              "      border-bottom-color: var(--fill-color);\n",
              "    }\n",
              "    90% {\n",
              "      border-color: transparent;\n",
              "      border-bottom-color: var(--fill-color);\n",
              "    }\n",
              "  }\n",
              "</style>\n",
              "\n",
              "  <script>\n",
              "    async function quickchart(key) {\n",
              "      const quickchartButtonEl =\n",
              "        document.querySelector('#' + key + ' button');\n",
              "      quickchartButtonEl.disabled = true;  // To prevent multiple clicks.\n",
              "      quickchartButtonEl.classList.add('colab-df-spinner');\n",
              "      try {\n",
              "        const charts = await google.colab.kernel.invokeFunction(\n",
              "            'suggestCharts', [key], {});\n",
              "      } catch (error) {\n",
              "        console.error('Error during call to suggestCharts:', error);\n",
              "      }\n",
              "      quickchartButtonEl.classList.remove('colab-df-spinner');\n",
              "      quickchartButtonEl.classList.add('colab-df-quickchart-complete');\n",
              "    }\n",
              "    (() => {\n",
              "      let quickchartButtonEl =\n",
              "        document.querySelector('#df-9a0c6cdd-47d0-40c2-9980-d311ccdc2d21 button');\n",
              "      quickchartButtonEl.style.display =\n",
              "        google.colab.kernel.accessAllowed ? 'block' : 'none';\n",
              "    })();\n",
              "  </script>\n",
              "</div>\n",
              "    </div>\n",
              "  </div>\n"
            ],
            "application/vnd.google.colaboratory.intrinsic+json": {
              "type": "dataframe",
              "summary": "{\n  \"name\": \"control\",\n  \"rows\": 8,\n  \"fields\": [\n    {\n      \"column\": \"Unnamed: 0\",\n      \"properties\": {\n        \"dtype\": \"number\",\n        \"std\": 501.8250719701304,\n        \"min\": 0.0,\n        \"max\": 1393.0,\n        \"num_unique_values\": 7,\n        \"samples\": [\n          1393.0,\n          696.0,\n          1044.0\n        ],\n        \"semantic_type\": \"\",\n        \"description\": \"\"\n      }\n    },\n    {\n      \"column\": \"time\",\n      \"properties\": {\n        \"dtype\": \"number\",\n        \"std\": 482.69479381958246,\n        \"min\": 8.32,\n        \"max\": 1393.0,\n        \"num_unique_values\": 8,\n        \"samples\": [\n          29.502828427853554,\n          28.84,\n          1393.0\n        ],\n        \"semantic_type\": \"\",\n        \"description\": \"\"\n      }\n    }\n  ]\n}"
            }
          },
          "metadata": {},
          "execution_count": 5
        }
      ]
    },
    {
      "cell_type": "markdown",
      "source": [
        "Видим, что в тестовой группе уменьшился среднее время обработки заказа и старндартное отклонение по сравнению с контрольной."
      ],
      "metadata": {
        "id": "BnM_4ZdeYPeD"
      }
    },
    {
      "cell_type": "code",
      "source": [
        "# Сравним визуально распределение в тестовой и контрольной группах\n",
        "plt.figure( figsize=(12,6))\n",
        "plt.hist(test['time'], bins=100, alpha=0.5, label='test')\n",
        "plt.hist(control['time'], bins=100, alpha=0.5, label='control')\n",
        "plt.legend(loc='upper right')\n",
        "plt.show()\n"
      ],
      "metadata": {
        "colab": {
          "base_uri": "https://localhost:8080/",
          "height": 522
        },
        "id": "FReaJxWMHvhP",
        "outputId": "d001326b-a683-46a7-8fcc-dce85f993652"
      },
      "execution_count": null,
      "outputs": [
        {
          "output_type": "display_data",
          "data": {
            "text/plain": [
              "<Figure size 1200x600 with 1 Axes>"
            ],
            "image/png": "[encoded data removed]"
          },
          "metadata": {}
        }
      ]
    },
    {
      "cell_type": "code",
      "source": [
        "plt.figure(figsize=(8,6))\n",
        "plt.boxplot([control['time'], test['time']], labels=['control', 'test'])\n",
        "plt.show()"
      ],
      "metadata": {
        "colab": {
          "base_uri": "https://localhost:8080/",
          "height": 527
        },
        "outputId": "c1861f3f-9801-4b4a-a40d-2e3f935d3f44",
        "id": "8D7bRwNlOkX5"
      },
      "execution_count": null,
      "outputs": [
        {
          "output_type": "display_data",
          "data": {
            "text/plain": [
              "<Figure size 800x600 with 1 Axes>"
            ],
            "image/png": "[encoded data removed]"
          },
          "metadata": {}
        }
      ]
    },
    {
      "cell_type": "code",
      "source": [
        "avg_test = test['time'].mean()\n",
        "std_test = test['time'].std()\n",
        "\n",
        "avg_ctrl = control['time'].mean()\n",
        "std_ctrl = control['time'].std()\n",
        "\n",
        "print(f'среднее плюс/минус три сигмы для тестовой группы: {avg_test - 3*std_test} / {avg_test + 3*std_test}')\n",
        "print(f'среднее плюс/минус три сигмы для контрольной группы: {avg_ctrl - 3*std_ctrl} / {avg_ctrl + 3*std_ctrl}')"
      ],
      "metadata": {
        "colab": {
          "base_uri": "https://localhost:8080/"
        },
        "id": "PPaiKIhv77d9",
        "outputId": "111276fb-dd99-47c7-a81c-de9678487df7"
      },
      "execution_count": null,
      "outputs": [
        {
          "output_type": "stream",
          "name": "stdout",
          "text": [
            "среднее плюс/минус три сигмы для тестовой группы: 0.43562592498145136 / 35.582694247308574\n",
            "среднее плюс/минус три сигмы для контрольной группы: 2.563165330928509 / 56.4424915247786\n"
          ]
        }
      ]
    },
    {
      "cell_type": "code",
      "source": [
        "# сравним коэффициенты скошенности Пирсона\n",
        "med_test = test['time'].median()\n",
        "med_ctrl = control['time'].median()\n",
        "\n",
        "print(f'Второй коэффициент скошенности Пирсона для тестовой группы - {3*(avg_test-med_test)/std_test}')\n",
        "print(f'Второй коэффициент скошенности Пирсона для контрольной группы - {3*(avg_ctrl-med_ctrl)/std_ctrl}')"
      ],
      "metadata": {
        "colab": {
          "base_uri": "https://localhost:8080/"
        },
        "id": "UmdjkzNQ_KMZ",
        "outputId": "bf5c8442-e4c7-44b4-9296-ebd7584c66a6"
      },
      "execution_count": null,
      "outputs": [
        {
          "output_type": "stream",
          "name": "stdout",
          "text": [
            "Второй коэффициент скошенности Пирсона для тестовой группы - 0.27100074075195485\n",
            "Второй коэффициент скошенности Пирсона для контрольной группы - 0.221437656039689\n"
          ]
        }
      ]
    },
    {
      "cell_type": "code",
      "source": [
        "# посмотрим на стандартные отклонения\n",
        "print(std_test)\n",
        "print(std_ctrl)"
      ],
      "metadata": {
        "colab": {
          "base_uri": "https://localhost:8080/"
        },
        "id": "nJZ1bD41EjCK",
        "outputId": "c59c5eaa-285b-43ae-caa3-946cc4de3510"
      },
      "execution_count": null,
      "outputs": [
        {
          "output_type": "stream",
          "name": "stdout",
          "text": [
            "5.857844720387853\n",
            "8.979887698975014\n"
          ]
        }
      ]
    },
    {
      "cell_type": "code",
      "source": [
        "# т.к выборки независимые и t-тест устойчив к разнице стандартных отклонений до 4 раз, можем использовать его\n",
        "# нулевая гипотеза: средние контрольной и тестовой группы равны, альтернативная: среднее тестовой подвыборки меньше, чем контрольной\n",
        "\n",
        "test_sample = test['time']\n",
        "ctrl_sample = control['time']\n",
        "alpha = 0.05  # уровень статистической значимости\n",
        "\n",
        "results = st.ttest_ind(test_sample, ctrl_sample,\n",
        "                       alternative = \"less\") # less / greater/ two-sided\n",
        "\n",
        "print('p-значение:', results.pvalue)\n",
        "print('t-статистика:', results.statistic)\n",
        "\n",
        "if results.pvalue < alpha:\n",
        "    print('Отвергаем нулевую гипотезу')\n",
        "else:\n",
        "    print('Не получилось отвергнуть нулевую гипотезу')"
      ],
      "metadata": {
        "colab": {
          "base_uri": "https://localhost:8080/"
        },
        "id": "5Vn8Eor3L7E2",
        "outputId": "e16077c9-babd-4cdf-cbf2-8fb8d260bec9"
      },
      "execution_count": null,
      "outputs": [
        {
          "output_type": "stream",
          "name": "stdout",
          "text": [
            "p-значение: 2.9949647128013707e-277\n",
            "t-статистика: -40.01055525962125\n",
            "Отвергаем нулевую гипотезу\n"
          ]
        }
      ]
    },
    {
      "cell_type": "markdown",
      "source": [
        "На собранных данных отвергаем нулевую гипотезу о равенстве среднего времени обработки заказов для двух групп на любом принятом уровне значимости (даже на 1%), p-value очень мало. Делаем вывод, что с внедрением интерактивного интерфейса время обработки заказов уменьшилось"
      ],
      "metadata": {
        "id": "6xF2uO5OPZCw"
      }
    },
    {
      "cell_type": "markdown",
      "source": [
        "Уменьшилось не только среднее время обработки заказов, но и дисперсия (разброс) времени обработки заказа"
      ],
      "metadata": {
        "id": "Lh0lo6dIbQX6"
      }
    },
    {
      "cell_type": "markdown",
      "source": [
        "##**Задание 2**\n",
        "Этот же маркетплейс предоставил с 1 мая часто заказывающим клиентам\n",
        "бесплатную доставку, действующую для всех заказов до конца календарного\n",
        "месяца, если в этом месяце клиент уже сделал пять заказов (то есть начиная с\n",
        "шестого заказа).\n",
        "\n",
        "В файле clients_orders.csv представлена информация о количестве заказов,\n",
        "которое тысяча случайно отобранных часто заказывающих клиентов сделали в\n",
        "апреле и мае.\n",
        "\n",
        "Проверьте гипотезу о том, что клиенты стали делать больше заказов после\n",
        "введения бесплатной доставки с шестого заказа.\n",
        "Подсказка: это зависимая (парная) выборка."
      ],
      "metadata": {
        "id": "8XV8qKslj6-b"
      }
    },
    {
      "cell_type": "code",
      "source": [
        "orders['orders_april'].describe()"
      ],
      "metadata": {
        "colab": {
          "base_uri": "https://localhost:8080/"
        },
        "id": "17p4YhOARHjf",
        "outputId": "7bb33010-1246-4995-c033-66d64fa82a1e"
      },
      "execution_count": null,
      "outputs": [
        {
          "output_type": "execute_result",
          "data": {
            "text/plain": [
              "count    1000.000000\n",
              "mean        5.762000\n",
              "std         3.006392\n",
              "min         0.000000\n",
              "25%         3.000000\n",
              "50%         6.000000\n",
              "75%         8.000000\n",
              "max        14.000000\n",
              "Name: orders_april, dtype: float64"
            ]
          },
          "metadata": {},
          "execution_count": 12
        }
      ]
    },
    {
      "cell_type": "code",
      "source": [
        "orders['orders_may'].describe()"
      ],
      "metadata": {
        "colab": {
          "base_uri": "https://localhost:8080/"
        },
        "id": "pcryFFVjRPUc",
        "outputId": "d9f0ec01-568b-4b82-fba0-6a1f17f816e3"
      },
      "execution_count": null,
      "outputs": [
        {
          "output_type": "execute_result",
          "data": {
            "text/plain": [
              "count    1000.000000\n",
              "mean        7.982000\n",
              "std         2.414437\n",
              "min         2.000000\n",
              "25%         6.000000\n",
              "50%         8.000000\n",
              "75%        10.000000\n",
              "max        14.000000\n",
              "Name: orders_may, dtype: float64"
            ]
          },
          "metadata": {},
          "execution_count": 13
        }
      ]
    },
    {
      "cell_type": "code",
      "source": [
        "orders.info()"
      ],
      "metadata": {
        "colab": {
          "base_uri": "https://localhost:8080/"
        },
        "id": "gGeag-Y0gHAu",
        "outputId": "fe94b40e-c6ab-470f-c875-e360b485c1fd"
      },
      "execution_count": null,
      "outputs": [
        {
          "output_type": "stream",
          "name": "stdout",
          "text": [
            "<class 'pandas.core.frame.DataFrame'>\n",
            "RangeIndex: 1000 entries, 0 to 999\n",
            "Data columns (total 3 columns):\n",
            " #   Column        Non-Null Count  Dtype\n",
            "---  ------        --------------  -----\n",
            " 0   Unnamed: 0    1000 non-null   int64\n",
            " 1   orders_april  1000 non-null   int64\n",
            " 2   orders_may    1000 non-null   int64\n",
            "dtypes: int64(3)\n",
            "memory usage: 23.6 KB\n"
          ]
        }
      ]
    },
    {
      "cell_type": "code",
      "source": [
        "print(orders[orders['orders_april'] == 5].count())\n",
        "print(orders[orders['orders_may'] == 5].count())"
      ],
      "metadata": {
        "colab": {
          "base_uri": "https://localhost:8080/"
        },
        "id": "htoHT-5reJNd",
        "outputId": "e66ead7c-c0da-418b-bff5-77077600871d"
      },
      "execution_count": null,
      "outputs": [
        {
          "output_type": "stream",
          "name": "stdout",
          "text": [
            "Unnamed: 0      107\n",
            "orders_april    107\n",
            "orders_may      107\n",
            "dtype: int64\n",
            "Unnamed: 0      93\n",
            "orders_april    93\n",
            "orders_may      93\n",
            "dtype: int64\n"
          ]
        }
      ]
    },
    {
      "cell_type": "markdown",
      "source": [
        "Количество клиентов 5 заказами уменьшилось в апреле, часть решила воспользоватся предложением?"
      ],
      "metadata": {
        "id": "eNr0O6Q0lJ0K"
      }
    },
    {
      "cell_type": "markdown",
      "source": [
        "Аналогично"
      ],
      "metadata": {
        "id": "MzL8N5eWlh2j"
      }
    },
    {
      "cell_type": "code",
      "source": [
        "# Сравним визуально распределение в тестовой и контрольной группах\n",
        "plt.figure( figsize=(9,5))\n",
        "plt.hist(orders['orders_april'], bins=13, alpha=0.5, label='april')\n",
        "plt.hist(orders['orders_may'], bins=13, alpha=0.5, label='may')\n",
        "plt.legend(loc='upper right')\n",
        "plt.show()"
      ],
      "metadata": {
        "colab": {
          "base_uri": "https://localhost:8080/",
          "height": 445
        },
        "id": "PzY7zSa3l-s1",
        "outputId": "8165d24e-b6a7-4fa9-9d3c-2193e7568568"
      },
      "execution_count": null,
      "outputs": [
        {
          "output_type": "display_data",
          "data": {
            "text/plain": [
              "<Figure size 900x500 with 1 Axes>"
            ],
            "image/png": "[encoded data removed]"
          },
          "metadata": {}
        }
      ]
    },
    {
      "cell_type": "code",
      "source": [
        "# посмотрим бокс-плоты, хотя уже по сравнению квантилей можно сделать кое-какие выводы и предположения (что вероятностная масса сдвинулась вправо)\n",
        "orders.boxplot(column = ['orders_april', 'orders_may'], figsize=(5,4), whis=3)\n",
        "# собственно это же и видим на бокс-плоте"
      ],
      "metadata": {
        "colab": {
          "base_uri": "https://localhost:8080/",
          "height": 385
        },
        "id": "8pgMc6DpTM4O",
        "outputId": "55a0de71-b5c3-4304-ef5f-0897f765ec5a"
      },
      "execution_count": null,
      "outputs": [
        {
          "output_type": "execute_result",
          "data": {
            "text/plain": [
              "<Axes: >"
            ]
          },
          "metadata": {},
          "execution_count": 17
        },
        {
          "output_type": "display_data",
          "data": {
            "text/plain": [
              "<Figure size 500x400 with 1 Axes>"
            ],
            "image/png": "[encoded data removed]"
          },
          "metadata": {}
        }
      ]
    },
    {
      "cell_type": "code",
      "source": [
        "# проверим гипотезу. помним, что выборки зависимые\n",
        "# нулевая гипотеза: среднее число заказов в мае и апреле равны, альтернативная: среднее число заказов в мае больше\n",
        "\n",
        "april_sample = orders['orders_april']\n",
        "may_sample = orders['orders_may']\n",
        "\n",
        "alpha = 0.01 # уровень статистической значимости\n",
        "\n",
        "results = st.ttest_rel(may_sample, april_sample,\n",
        "                       alternative = \"greater\") # less / greater/ two-sided\n",
        "\n",
        "print('p-значение:', results.pvalue)\n",
        "print('t-статистика:', results.statistic)\n",
        "\n",
        "if results.pvalue < alpha:\n",
        "    print('Отвергаем нулевую гипотезу')\n",
        "else:\n",
        "    print('Не получилось отвергнуть нулевую гипотезу')"
      ],
      "metadata": {
        "colab": {
          "base_uri": "https://localhost:8080/"
        },
        "id": "MXKxWoD0T4VF",
        "outputId": "2a42b15f-379d-4033-f633-b437b4dd6692"
      },
      "execution_count": null,
      "outputs": [
        {
          "output_type": "stream",
          "name": "stdout",
          "text": [
            "p-значение: 2.8066025158955254e-64\n",
            "t-статистика: 18.171999762294778\n",
            "Отвергаем нулевую гипотезу\n"
          ]
        }
      ]
    },
    {
      "cell_type": "markdown",
      "source": [
        "На имеющихся данных отвергаем нулевую гипотезу о равенстве среднего кол-ва заказов в пользу альтернативной (кол-во заказов в Мае после введения бесплатной доставки с 6 заказа стало больше) на уровне значимости даже в 1% (p-value мало)"
      ],
      "metadata": {
        "id": "eweoLgrjX8zR"
      }
    },
    {
      "cell_type": "markdown",
      "source": [
        "Вопрос, а будет ли расти совокупная выручка или люди будут склонны месяц активно покупать, а потом делать паузу в месяц, чтобы потом опять получать бесплатную доставку?"
      ],
      "metadata": {
        "id": "Lnwcpk_QXOcg"
      }
    },
    {
      "cell_type": "code",
      "source": [
        "orders['orders_may'].sum()"
      ],
      "metadata": {
        "colab": {
          "base_uri": "https://localhost:8080/"
        },
        "id": "1MsrB-cTJRSN",
        "outputId": "4b89051c-da6f-4026-ae62-b78dcde476a9"
      },
      "execution_count": null,
      "outputs": [
        {
          "output_type": "execute_result",
          "data": {
            "text/plain": [
              "7982"
            ]
          },
          "metadata": {},
          "execution_count": 19
        }
      ]
    },
    {
      "cell_type": "code",
      "source": [
        "orders['orders_april'].sum()"
      ],
      "metadata": {
        "colab": {
          "base_uri": "https://localhost:8080/"
        },
        "id": "0GAYZP0TJYxy",
        "outputId": "c1a81c49-17de-4ea3-986f-d6e332f51f55"
      },
      "execution_count": null,
      "outputs": [
        {
          "output_type": "execute_result",
          "data": {
            "text/plain": [
              "5762"
            ]
          },
          "metadata": {},
          "execution_count": 20
        }
      ]
    },
    {
      "cell_type": "code",
      "source": [
        "# количество заказов в сумме выросло\n",
        "# проверим, как распределена разница в кол-ве заказов\n",
        "orders['diff'] = orders['orders_may'] - orders['orders_april']\n",
        "\n",
        "plt.hist(orders['diff'], bins=13, alpha=0.5, label='april')\n",
        "orders['diff'].describe()"
      ],
      "metadata": {
        "colab": {
          "base_uri": "https://localhost:8080/",
          "height": 586
        },
        "id": "oe8TD914Ji9b",
        "outputId": "afc4ec97-556e-4cb0-ed07-2fd424e1a52f"
      },
      "execution_count": null,
      "outputs": [
        {
          "output_type": "execute_result",
          "data": {
            "text/plain": [
              "count    1000.000000\n",
              "mean        2.220000\n",
              "std         3.863227\n",
              "min       -10.000000\n",
              "25%        -1.000000\n",
              "50%         2.000000\n",
              "75%         5.000000\n",
              "max        12.000000\n",
              "Name: diff, dtype: float64"
            ]
          },
          "metadata": {},
          "execution_count": 21
        },
        {
          "output_type": "display_data",
          "data": {
            "text/plain": [
              "<Figure size 640x480 with 1 Axes>"
            ],
            "image/png": "[encoded data removed]"
          },
          "metadata": {}
        }
      ]
    },
    {
      "cell_type": "markdown",
      "source": [
        "## **Задание 3**\n",
        "В файле vendors.csv представлена анонимизированная информация о\n",
        "продавцах маркетплейса: тип продукции ( goods ) и время осуществления\n",
        "продаж через этот маркетплейс ( experience ).\n",
        "\n",
        "\n",
        "Переменная goods принимает значения:*Курсив*\n",
        "\n",
        "clothes — одежда\n",
        "\n",
        "electronics — электроника и техника\n",
        "\n",
        "outdoor — товары для активного отдыха\n",
        "\n",
        "beauty — косметика и товары для ухода\n",
        "\n",
        "pets — товары для животных\n",
        "\n",
        "\n",
        "Переменная experience принимает значения:\n",
        "\n",
        "0-1 — до одного года продаж\n",
        "\n",
        "1-3 — от одного до трёх лет продаж\n",
        "\n",
        "3-5 — от трёх до пяти лет продаж\n",
        "\n",
        "5- — от пяти лет продаж\n",
        "\n",
        "Проверьте гипотезу о том, что стаж продаж на маркетплейсе не зависит от типа\n",
        "реализуемой продукции."
      ],
      "metadata": {
        "id": "7HJBzWQaTddz"
      }
    },
    {
      "cell_type": "code",
      "source": [
        " # сначала сгруппируем данные и просто посмотрим на них\n",
        "table = vendors.groupby(['goods','experience']).count().unstack()\n",
        "table"
      ],
      "metadata": {
        "colab": {
          "base_uri": "https://localhost:8080/",
          "height": 269
        },
        "id": "5fo4QaWMfvC3",
        "outputId": "6ec92c6b-832f-4ce8-c066-5c451965390b"
      },
      "execution_count": null,
      "outputs": [
        {
          "output_type": "execute_result",
          "data": {
            "text/plain": [
              "            Unnamed: 0             \n",
              "experience         0-1  1-3 3-5  5-\n",
              "goods                              \n",
              "beauty              40   65  22  26\n",
              "clothes            104  129  42  46\n",
              "electronics         68   67  29  31\n",
              "outdoor             36   46  23  26\n",
              "pets                13   17   4   5"
            ],
            "text/html": [
              "\n",
              "  <div id=\"df-6e4a4fc3-3f52-4f8a-8ffa-41e2566cdefb\" class=\"colab-df-container\">\n",
              "    <div>\n",
              "<style scoped>\n",
              "    .dataframe tbody tr th:only-of-type {\n",
              "        vertical-align: middle;\n",
              "    }\n",
              "\n",
              "    .dataframe tbody tr th {\n",
              "        vertical-align: top;\n",
              "    }\n",
              "\n",
              "    .dataframe thead tr th {\n",
              "        text-align: left;\n",
              "    }\n",
              "\n",
              "    .dataframe thead tr:last-of-type th {\n",
              "        text-align: right;\n",
              "    }\n",
              "</style>\n",
              "<table border=\"1\" class=\"dataframe\">\n",
              "  <thead>\n",
              "    <tr>\n",
              "      <th></th>\n",
              "      <th colspan=\"4\" halign=\"left\">Unnamed: 0</th>\n",
              "    </tr>\n",
              "    <tr>\n",
              "      <th>experience</th>\n",
              "      <th>0-1</th>\n",
              "      <th>1-3</th>\n",
              "      <th>3-5</th>\n",
              "      <th>5-</th>\n",
              "    </tr>\n",
              "    <tr>\n",
              "      <th>goods</th>\n",
              "      <th></th>\n",
              "      <th></th>\n",
              "      <th></th>\n",
              "      <th></th>\n",
              "    </tr>\n",
              "  </thead>\n",
              "  <tbody>\n",
              "    <tr>\n",
              "      <th>beauty</th>\n",
              "      <td>40</td>\n",
              "      <td>65</td>\n",
              "      <td>22</td>\n",
              "      <td>26</td>\n",
              "    </tr>\n",
              "    <tr>\n",
              "      <th>clothes</th>\n",
              "      <td>104</td>\n",
              "      <td>129</td>\n",
              "      <td>42</td>\n",
              "      <td>46</td>\n",
              "    </tr>\n",
              "    <tr>\n",
              "      <th>electronics</th>\n",
              "      <td>68</td>\n",
              "      <td>67</td>\n",
              "      <td>29</td>\n",
              "      <td>31</td>\n",
              "    </tr>\n",
              "    <tr>\n",
              "      <th>outdoor</th>\n",
              "      <td>36</td>\n",
              "      <td>46</td>\n",
              "      <td>23</td>\n",
              "      <td>26</td>\n",
              "    </tr>\n",
              "    <tr>\n",
              "      <th>pets</th>\n",
              "      <td>13</td>\n",
              "      <td>17</td>\n",
              "      <td>4</td>\n",
              "      <td>5</td>\n",
              "    </tr>\n",
              "  </tbody>\n",
              "</table>\n",
              "</div>\n",
              "    <div class=\"colab-df-buttons\">\n",
              "\n",
              "  <div class=\"colab-df-container\">\n",
              "    <button class=\"colab-df-convert\" onclick=\"convertToInteractive('df-6e4a4fc3-3f52-4f8a-8ffa-41e2566cdefb')\"\n",
              "            title=\"Convert this dataframe to an interactive table.\"\n",
              "            style=\"display:none;\">\n",
              "\n",
              "  <svg xmlns=\"http://www.w3.org/2000/svg\" height=\"24px\" viewBox=\"0 -960 960 960\">\n",
              "    <path d=\"M120-120v-720h720v720H120Zm60-500h600v-160H180v160Zm220 220h160v-160H400v160Zm0 220h160v-160H400v160ZM180-400h160v-160H180v160Zm440 0h160v-160H620v160ZM180-180h160v-160H180v160Zm440 0h160v-160H620v160Z\"/>\n",
              "  </svg>\n",
              "    </button>\n",
              "\n",
              "  <style>\n",
              "    .colab-df-container {\n",
              "      display:flex;\n",
              "      gap: 12px;\n",
              "    }\n",
              "\n",
              "    .colab-df-convert {\n",
              "      background-color: #E8F0FE;\n",
              "      border: none;\n",
              "      border-radius: 50%;\n",
              "      cursor: pointer;\n",
              "      display: none;\n",
              "      fill: #1967D2;\n",
              "      height: 32px;\n",
              "      padding: 0 0 0 0;\n",
              "      width: 32px;\n",
              "    }\n",
              "\n",
              "    .colab-df-convert:hover {\n",
              "      background-color: #E2EBFA;\n",
              "      box-shadow: 0px 1px 2px rgba(60, 64, 67, 0.3), 0px 1px 3px 1px rgba(60, 64, 67, 0.15);\n",
              "      fill: #174EA6;\n",
              "    }\n",
              "\n",
              "    .colab-df-buttons div {\n",
              "      margin-bottom: 4px;\n",
              "    }\n",
              "\n",
              "    [theme=dark] .colab-df-convert {\n",
              "      background-color: #3B4455;\n",
              "      fill: #D2E3FC;\n",
              "    }\n",
              "\n",
              "    [theme=dark] .colab-df-convert:hover {\n",
              "      background-color: #434B5C;\n",
              "      box-shadow: 0px 1px 3px 1px rgba(0, 0, 0, 0.15);\n",
              "      filter: drop-shadow(0px 1px 2px rgba(0, 0, 0, 0.3));\n",
              "      fill: #FFFFFF;\n",
              "    }\n",
              "  </style>\n",
              "\n",
              "    <script>\n",
              "      const buttonEl =\n",
              "        document.querySelector('#df-6e4a4fc3-3f52-4f8a-8ffa-41e2566cdefb button.colab-df-convert');\n",
              "      buttonEl.style.display =\n",
              "        google.colab.kernel.accessAllowed ? 'block' : 'none';\n",
              "\n",
              "      async function convertToInteractive(key) {\n",
              "        const element = document.querySelector('#df-6e4a4fc3-3f52-4f8a-8ffa-41e2566cdefb');\n",
              "        const dataTable =\n",
              "          await google.colab.kernel.invokeFunction('convertToInteractive',\n",
              "                                                    [key], {});\n",
              "        if (!dataTable) return;\n",
              "\n",
              "        const docLinkHtml = 'Like what you see? Visit the ' +\n",
              "          '<a target=\"_blank\" href=https://colab.research.google.com/notebooks/data_table.ipynb>data table notebook</a>'\n",
              "          + ' to learn more about interactive tables.';\n",
              "        element.innerHTML = '';\n",
              "        dataTable['output_type'] = 'display_data';\n",
              "        await google.colab.output.renderOutput(dataTable, element);\n",
              "        const docLink = document.createElement('div');\n",
              "        docLink.innerHTML = docLinkHtml;\n",
              "        element.appendChild(docLink);\n",
              "      }\n",
              "    </script>\n",
              "  </div>\n",
              "\n",
              "\n",
              "<div id=\"df-88a8a4b5-45ff-4994-8728-6af375f00a76\">\n",
              "  <button class=\"colab-df-quickchart\" onclick=\"quickchart('df-88a8a4b5-45ff-4994-8728-6af375f00a76')\"\n",
              "            title=\"Suggest charts\"\n",
              "            style=\"display:none;\">\n",
              "\n",
              "<svg xmlns=\"http://www.w3.org/2000/svg\" height=\"24px\"viewBox=\"0 0 24 24\"\n",
              "     width=\"24px\">\n",
              "    <g>\n",
              "        <path d=\"M19 3H5c-1.1 0-2 .9-2 2v14c0 1.1.9 2 2 2h14c1.1 0 2-.9 2-2V5c0-1.1-.9-2-2-2zM9 17H7v-7h2v7zm4 0h-2V7h2v10zm4 0h-2v-4h2v4z\"/>\n",
              "    </g>\n",
              "</svg>\n",
              "  </button>\n",
              "\n",
              "<style>\n",
              "  .colab-df-quickchart {\n",
              "      --bg-color: #E8F0FE;\n",
              "      --fill-color: #1967D2;\n",
              "      --hover-bg-color: #E2EBFA;\n",
              "      --hover-fill-color: #174EA6;\n",
              "      --disabled-fill-color: #AAA;\n",
              "      --disabled-bg-color: #DDD;\n",
              "  }\n",
              "\n",
              "  [theme=dark] .colab-df-quickchart {\n",
              "      --bg-color: #3B4455;\n",
              "      --fill-color: #D2E3FC;\n",
              "      --hover-bg-color: #434B5C;\n",
              "      --hover-fill-color: #FFFFFF;\n",
              "      --disabled-bg-color: #3B4455;\n",
              "      --disabled-fill-color: #666;\n",
              "  }\n",
              "\n",
              "  .colab-df-quickchart {\n",
              "    background-color: var(--bg-color);\n",
              "    border: none;\n",
              "    border-radius: 50%;\n",
              "    cursor: pointer;\n",
              "    display: none;\n",
              "    fill: var(--fill-color);\n",
              "    height: 32px;\n",
              "    padding: 0;\n",
              "    width: 32px;\n",
              "  }\n",
              "\n",
              "  .colab-df-quickchart:hover {\n",
              "    background-color: var(--hover-bg-color);\n",
              "    box-shadow: 0 1px 2px rgba(60, 64, 67, 0.3), 0 1px 3px 1px rgba(60, 64, 67, 0.15);\n",
              "    fill: var(--button-hover-fill-color);\n",
              "  }\n",
              "\n",
              "  .colab-df-quickchart-complete:disabled,\n",
              "  .colab-df-quickchart-complete:disabled:hover {\n",
              "    background-color: var(--disabled-bg-color);\n",
              "    fill: var(--disabled-fill-color);\n",
              "    box-shadow: none;\n",
              "  }\n",
              "\n",
              "  .colab-df-spinner {\n",
              "    border: 2px solid var(--fill-color);\n",
              "    border-color: transparent;\n",
              "    border-bottom-color: var(--fill-color);\n",
              "    animation:\n",
              "      spin 1s steps(1) infinite;\n",
              "  }\n",
              "\n",
              "  @keyframes spin {\n",
              "    0% {\n",
              "      border-color: transparent;\n",
              "      border-bottom-color: var(--fill-color);\n",
              "      border-left-color: var(--fill-color);\n",
              "    }\n",
              "    20% {\n",
              "      border-color: transparent;\n",
              "      border-left-color: var(--fill-color);\n",
              "      border-top-color: var(--fill-color);\n",
              "    }\n",
              "    30% {\n",
              "      border-color: transparent;\n",
              "      border-left-color: var(--fill-color);\n",
              "      border-top-color: var(--fill-color);\n",
              "      border-right-color: var(--fill-color);\n",
              "    }\n",
              "    40% {\n",
              "      border-color: transparent;\n",
              "      border-right-color: var(--fill-color);\n",
              "      border-top-color: var(--fill-color);\n",
              "    }\n",
              "    60% {\n",
              "      border-color: transparent;\n",
              "      border-right-color: var(--fill-color);\n",
              "    }\n",
              "    80% {\n",
              "      border-color: transparent;\n",
              "      border-right-color: var(--fill-color);\n",
              "      border-bottom-color: var(--fill-color);\n",
              "    }\n",
              "    90% {\n",
              "      border-color: transparent;\n",
              "      border-bottom-color: var(--fill-color);\n",
              "    }\n",
              "  }\n",
              "</style>\n",
              "\n",
              "  <script>\n",
              "    async function quickchart(key) {\n",
              "      const quickchartButtonEl =\n",
              "        document.querySelector('#' + key + ' button');\n",
              "      quickchartButtonEl.disabled = true;  // To prevent multiple clicks.\n",
              "      quickchartButtonEl.classList.add('colab-df-spinner');\n",
              "      try {\n",
              "        const charts = await google.colab.kernel.invokeFunction(\n",
              "            'suggestCharts', [key], {});\n",
              "      } catch (error) {\n",
              "        console.error('Error during call to suggestCharts:', error);\n",
              "      }\n",
              "      quickchartButtonEl.classList.remove('colab-df-spinner');\n",
              "      quickchartButtonEl.classList.add('colab-df-quickchart-complete');\n",
              "    }\n",
              "    (() => {\n",
              "      let quickchartButtonEl =\n",
              "        document.querySelector('#df-88a8a4b5-45ff-4994-8728-6af375f00a76 button');\n",
              "      quickchartButtonEl.style.display =\n",
              "        google.colab.kernel.accessAllowed ? 'block' : 'none';\n",
              "    })();\n",
              "  </script>\n",
              "</div>\n",
              "    </div>\n",
              "  </div>\n"
            ],
            "application/vnd.google.colaboratory.intrinsic+json": {
              "type": "dataframe",
              "variable_name": "table",
              "summary": "{\n  \"name\": \"table\",\n  \"rows\": 5,\n  \"fields\": [\n    {\n      \"column\": [\n        \"goods\",\n        \"\"\n      ],\n      \"properties\": {\n        \"dtype\": \"string\",\n        \"num_unique_values\": 5,\n        \"samples\": [\n          \"clothes\",\n          \"pets\",\n          \"electronics\"\n        ],\n        \"semantic_type\": \"\",\n        \"description\": \"\"\n      }\n    },\n    {\n      \"column\": [\n        \"Unnamed: 0\",\n        \"0-1\"\n      ],\n      \"properties\": {\n        \"dtype\": \"number\",\n        \"std\": 34,\n        \"min\": 13,\n        \"max\": 104,\n        \"num_unique_values\": 5,\n        \"samples\": [\n          104,\n          13,\n          68\n        ],\n        \"semantic_type\": \"\",\n        \"description\": \"\"\n      }\n    },\n    {\n      \"column\": [\n        \"Unnamed: 0\",\n        \"1-3\"\n      ],\n      \"properties\": {\n        \"dtype\": \"number\",\n        \"std\": 41,\n        \"min\": 17,\n        \"max\": 129,\n        \"num_unique_values\": 5,\n        \"samples\": [\n          129,\n          17,\n          67\n        ],\n        \"semantic_type\": \"\",\n        \"description\": \"\"\n      }\n    },\n    {\n      \"column\": [\n        \"Unnamed: 0\",\n        \"3-5\"\n      ],\n      \"properties\": {\n        \"dtype\": \"number\",\n        \"std\": 13,\n        \"min\": 4,\n        \"max\": 42,\n        \"num_unique_values\": 5,\n        \"samples\": [\n          42,\n          4,\n          29\n        ],\n        \"semantic_type\": \"\",\n        \"description\": \"\"\n      }\n    },\n    {\n      \"column\": [\n        \"Unnamed: 0\",\n        \"5-\"\n      ],\n      \"properties\": {\n        \"dtype\": \"number\",\n        \"std\": 14,\n        \"min\": 5,\n        \"max\": 46,\n        \"num_unique_values\": 4,\n        \"samples\": [\n          46,\n          5,\n          26\n        ],\n        \"semantic_type\": \"\",\n        \"description\": \"\"\n      }\n    }\n  ]\n}"
            }
          },
          "metadata": {},
          "execution_count": 22
        }
      ]
    },
    {
      "cell_type": "code",
      "source": [
        "# нулевая гипотеза: стаж продаж на маркетплейсе не зависит от типа реализуемой продукции\n",
        "from scipy.stats import chi2_contingency\n",
        "\n",
        "res = chi2_contingency(table,lambda_=0.05)\n",
        "print(f'статистика: {res.statistic}')\n",
        "print(f'p-value: {res.pvalue}')\n",
        "print(f'степеней свободы: {res.dof}')"
      ],
      "metadata": {
        "colab": {
          "base_uri": "https://localhost:8080/"
        },
        "id": "AjmObZfQiPME",
        "outputId": "f917567a-f606-465c-8d3f-dc26ba0a0238"
      },
      "execution_count": null,
      "outputs": [
        {
          "output_type": "stream",
          "name": "stdout",
          "text": [
            "статистика: 9.187702599628594\n",
            "p-value: 0.686820023603987\n",
            "степеней свободы: 12\n"
          ]
        }
      ]
    },
    {
      "cell_type": "code",
      "source": [
        "# p-value больше любого уровня значимости, нулевая гипотеза не отвергается"
      ],
      "metadata": {
        "id": "jMrEpIuKjSYB"
      },
      "execution_count": null,
      "outputs": []
    },
    {
      "cell_type": "markdown",
      "source": [
        "## **Задание 4**\n",
        "Постройте 90%-е доверительные интервалы по выборкам из задания 1 для\n",
        "среднего времени обработки заказа продавцами, использующими и не\n",
        "использующими интерактивный дашборд."
      ],
      "metadata": {
        "id": "MFF2GWLiUC8f"
      }
    },
    {
      "cell_type": "code",
      "source": [
        "# Стандартное отклонение с поправкой Бесселя\n",
        "std_test_1 = np.std(test['time'], ddof=1)\n",
        "std_ctrl_1 = np.std(control['time'], ddof=1)\n",
        "#std_test = test['time'].std()\n",
        "print(std_test_1)\n",
        "print(std_ctrl_1)"
      ],
      "metadata": {
        "colab": {
          "base_uri": "https://localhost:8080/"
        },
        "id": "aoktDLVv1oEn",
        "outputId": "47dddd99-9541-4fdc-c19c-dc3b9ff735b1"
      },
      "execution_count": null,
      "outputs": [
        {
          "output_type": "stream",
          "name": "stdout",
          "text": [
            "5.857844720387853\n",
            "8.979887698975014\n"
          ]
        }
      ]
    },
    {
      "cell_type": "code",
      "source": [
        "print(std_test)\n",
        "print(std_ctrl)"
      ],
      "metadata": {
        "colab": {
          "base_uri": "https://localhost:8080/"
        },
        "id": "djkxT1UM2T4o",
        "outputId": "d76cb94c-e5f3-49dd-c148-587099f5d470"
      },
      "execution_count": null,
      "outputs": [
        {
          "output_type": "stream",
          "name": "stdout",
          "text": [
            "5.857844720387853\n",
            "8.979887698975014\n"
          ]
        }
      ]
    },
    {
      "cell_type": "code",
      "source": [
        "norm_rv = st.norm(loc=0, scale=1)\n",
        "\n",
        "alpha = 0.1\n",
        "z_alpha = norm_rv.ppf(1 - alpha/2)\n",
        "\n",
        "# оценка стандартного отклонения выборочного распределения\n",
        "test_ese = std_test/np.sqrt(len(test))\n",
        "ctrl_ese =  std_ctrl/np.sqrt(len(control))\n",
        "\n",
        "# считаем границы для тестовой и контрольной групп\n",
        "left_test = avg_test - z_alpha*test_ese\n",
        "right_test = avg_test + z_alpha*test_ese\n",
        "\n",
        "left_ctrl = avg_ctrl - z_alpha*ctrl_ese\n",
        "right_ctrl = avg_ctrl + z_alpha*ctrl_ese\n",
        "\n",
        "print(f'90%-ный доверительный интервал для тестовой группы: от {left_test} до {right_test}')\n",
        "print(f'90%-ный доверительный интервал для контрольной группы: от {left_ctrl} до {right_ctrl}')"
      ],
      "metadata": {
        "colab": {
          "base_uri": "https://localhost:8080/"
        },
        "id": "yhbkHN2JxinP",
        "outputId": "c1582cb5-c0f0-41d4-fc33-1ef8501325dd"
      },
      "execution_count": null,
      "outputs": [
        {
          "output_type": "stream",
          "name": "stdout",
          "text": [
            "90%-ный доверительный интервал для тестовой группы: от 17.750999728642142 до 18.267320443647883\n",
            "90%-ный доверительный интервал для контрольной группы: от 29.107076896469582 до 29.898579959237527\n"
          ]
        }
      ]
    },
    {
      "cell_type": "code",
      "source": [
        "# построим асимптотический доверительный интервал, используя встроенный функционал\n",
        "# для тестовой группы\n",
        "print(st.norm.interval(0.9, loc = avg_test, scale = test_ese))\n",
        "# для контрольной группы\n",
        "print(st.norm.interval(0.9, loc = avg_ctrl, scale = ctrl_ese))\n",
        "\n",
        "# получаем идентичный результат"
      ],
      "metadata": {
        "colab": {
          "base_uri": "https://localhost:8080/"
        },
        "id": "pEOF2tWSC1st",
        "outputId": "8b312ab4-01b9-4b32-f409-5ea4db4d9c73"
      },
      "execution_count": null,
      "outputs": [
        {
          "output_type": "stream",
          "name": "stdout",
          "text": [
            "(17.750999728642142, 18.267320443647883)\n",
            "(29.107076896469582, 29.898579959237527)\n"
          ]
        }
      ]
    },
    {
      "cell_type": "code",
      "source": [
        "# построим график\n",
        "\n",
        "def norm_conf_interval(alpha, mean=0, std=1, margin=0.9):\n",
        "  plt.figure(figsize =(10,5))\n",
        "\n",
        "  xs = np.linspace(mean - margin, mean + margin)\n",
        "  pdf = st.norm(mean, std).pdf(xs)\n",
        "\n",
        "  plt.plot(xs, pdf)\n",
        "  plt.ylabel('$f(x)$', fontsize=18)\n",
        "  plt.xlabel('$x$', fontsize=18)\n",
        "\n",
        "  left, right = st.norm.interval(1-alpha, loc = mean, scale = std)\n",
        "\n",
        "  for i in [left, right]:\n",
        "    y_max=plt.ylim()[1]\n",
        "    plt.axvline(i, color = \"blue\", linestyle = 'dashed', lw =2)\n",
        "\n",
        "    if i == left:\n",
        "      xq = np.linspace(mean - margin, left)\n",
        "    else:\n",
        "      xq = np.linspace(right, mean + margin)\n",
        "\n",
        "    text_margin=0.01\n",
        "    plt.text(i + text_margin, 0.8*y_max, round(i,2), color=\"blue\", fontsize=12)\n",
        "    yq = st.norm(mean, std).pdf(xq)\n",
        "    plt.fill_between(xq, 0, yq, color = 'blue', alpha = 0.3)\n",
        "\n",
        "  return left, right\n",
        "\n",
        "# для тестовой подвыборки\n",
        "norm_conf_interval(0.1, avg_test, test_ese)"
      ],
      "metadata": {
        "colab": {
          "base_uri": "https://localhost:8080/",
          "height": 492
        },
        "id": "HBTgEM3TEPpN",
        "outputId": "ed320450-8793-4306-a276-7b7f0040bc97"
      },
      "execution_count": null,
      "outputs": [
        {
          "output_type": "execute_result",
          "data": {
            "text/plain": [
              "(17.750999728642142, 18.267320443647883)"
            ]
          },
          "metadata": {},
          "execution_count": 29
        },
        {
          "output_type": "display_data",
          "data": {
            "text/plain": [
              "<Figure size 1000x500 with 1 Axes>"
            ],
            "image/png": "[encoded data removed]"
          },
          "metadata": {}
        }
      ]
    },
    {
      "cell_type": "code",
      "source": [
        "# для контрольной подвыборки\n",
        "norm_conf_interval(0.1, avg_ctrl, ctrl_ese)"
      ],
      "metadata": {
        "colab": {
          "base_uri": "https://localhost:8080/",
          "height": 492
        },
        "id": "BvuwOUidIoX-",
        "outputId": "5bde0a94-4401-4c31-ac49-b37e6bc544ee"
      },
      "execution_count": null,
      "outputs": [
        {
          "output_type": "execute_result",
          "data": {
            "text/plain": [
              "(29.107076896469582, 29.898579959237527)"
            ]
          },
          "metadata": {},
          "execution_count": 30
        },
        {
          "output_type": "display_data",
          "data": {
            "text/plain": [
              "<Figure size 1000x500 with 1 Axes>"
            ],
            "image/png": "[encoded data removed]"
          },
          "metadata": {}
        }
      ]
    }
  ]
}